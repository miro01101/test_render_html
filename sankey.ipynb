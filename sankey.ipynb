{
 "cells": [
  {
   "cell_type": "code",
   "execution_count": 56,
   "metadata": {},
   "outputs": [],
   "source": [
    "import snowflake.connector\n",
    "\n",
    "ctx = snowflake.connector.connect(\n",
    "          #host=host,\n",
    "          #port=port,\n",
    "          user='datatailor01',\n",
    "          password='#Datatailors2244',\n",
    "          account='vm34934.eu-west-1',\n",
    "          warehouse='DT_XS',\n",
    "          database='DRMX',\n",
    "          schema='RO',\n",
    "          protocol='https',\n",
    "          role='ACCOUNTADMIN')\n",
    "\n",
    "# Create a cursor object.\n",
    "cur = ctx.cursor()\n",
    "\n",
    "# Execute a statement that will generate a result set.\n",
    "sql = \"SELECT TOP 100000 * FROM DRMX.RO.TMP_SANKEY\"\n",
    "cur.execute(sql)\n",
    "\n",
    "# Fetch the result set from the cursor and deliver it as the Pandas DataFrame.\n",
    "CUSTOMERS_LAST12M = cur.fetch_pandas_all()\n",
    "\n",
    "##CUSTOMERS_LAST12M.to_csv(\"C:\\\\Projekty\\\\DrMAX\\\\Rumunsko\\\\Model\\\\CUSTOMERS_LAST12M_XXXXXXXXXXXXX.csv\", index = False)\n",
    "\n",
    "ctx.close()"
   ]
  },
  {
   "cell_type": "code",
   "execution_count": 4,
   "metadata": {},
   "outputs": [],
   "source": [
    "import pandas as pd\n",
    "import numpy as np\n",
    "from webcolors import hex_to_rgb\n",
    "%matplotlib inline\n",
    "\n",
    "from plotly.offline import download_plotlyjs, init_notebook_mode, plot, iplot"
   ]
  },
  {
   "cell_type": "code",
   "execution_count": 5,
   "metadata": {},
   "outputs": [
    {
     "data": {
      "text/html": [
       "        <script type=\"text/javascript\">\n",
       "        window.PlotlyConfig = {MathJaxConfig: 'local'};\n",
       "        if (window.MathJax && window.MathJax.Hub && window.MathJax.Hub.Config) {window.MathJax.Hub.Config({SVG: {font: \"STIX-Web\"}});}\n",
       "        if (typeof require !== 'undefined') {\n",
       "        require.undef(\"plotly\");\n",
       "        requirejs.config({\n",
       "            paths: {\n",
       "                'plotly': ['https://cdn.plot.ly/plotly-2.26.0.min']\n",
       "            }\n",
       "        });\n",
       "        require(['plotly'], function(Plotly) {\n",
       "            window._Plotly = Plotly;\n",
       "        });\n",
       "        }\n",
       "        </script>\n",
       "        "
      ]
     },
     "metadata": {},
     "output_type": "display_data"
    }
   ],
   "source": [
    "# For Notebooks\n",
    "init_notebook_mode(connected=True)  "
   ]
  },
  {
   "cell_type": "code",
   "execution_count": 94,
   "metadata": {},
   "outputs": [
    {
     "data": {
      "text/html": [
       "<div>\n",
       "<style scoped>\n",
       "    .dataframe tbody tr th:only-of-type {\n",
       "        vertical-align: middle;\n",
       "    }\n",
       "\n",
       "    .dataframe tbody tr th {\n",
       "        vertical-align: top;\n",
       "    }\n",
       "\n",
       "    .dataframe thead th {\n",
       "        text-align: right;\n",
       "    }\n",
       "</style>\n",
       "<table border=\"1\" class=\"dataframe\">\n",
       "  <thead>\n",
       "    <tr style=\"text-align: right;\">\n",
       "      <th></th>\n",
       "      <th>CUSTOMER_ID_ORIGINAL_RO</th>\n",
       "      <th>GM1_22</th>\n",
       "      <th>GM1_23</th>\n",
       "      <th>YEAR_FLAG</th>\n",
       "      <th>CUST_SEGMENT</th>\n",
       "      <th>SEGM_YR</th>\n",
       "    </tr>\n",
       "  </thead>\n",
       "  <tbody>\n",
       "    <tr>\n",
       "      <th>65750</th>\n",
       "      <td>2001995182</td>\n",
       "      <td>77.3439</td>\n",
       "      <td>22.4129</td>\n",
       "      <td>2022</td>\n",
       "      <td>DRMX</td>\n",
       "      <td>DRMX_2022</td>\n",
       "    </tr>\n",
       "    <tr>\n",
       "      <th>60745</th>\n",
       "      <td>2002950509</td>\n",
       "      <td>72.3446</td>\n",
       "      <td>-102.3910</td>\n",
       "      <td>2022</td>\n",
       "      <td>DRMX</td>\n",
       "      <td>DRMX_2022</td>\n",
       "    </tr>\n",
       "    <tr>\n",
       "      <th>1441</th>\n",
       "      <td>7739223</td>\n",
       "      <td>175.9146</td>\n",
       "      <td>112.5791</td>\n",
       "      <td>2023</td>\n",
       "      <td>DRMX</td>\n",
       "      <td>DRMX_2023</td>\n",
       "    </tr>\n",
       "    <tr>\n",
       "      <th>37936</th>\n",
       "      <td>2007888847</td>\n",
       "      <td>12.9847</td>\n",
       "      <td>32.7839</td>\n",
       "      <td>2023</td>\n",
       "      <td>DRMX</td>\n",
       "      <td>DRMX_2023</td>\n",
       "    </tr>\n",
       "    <tr>\n",
       "      <th>84959</th>\n",
       "      <td>10094307</td>\n",
       "      <td>193.4740</td>\n",
       "      <td>197.3556</td>\n",
       "      <td>2022</td>\n",
       "      <td>DRMX</td>\n",
       "      <td>DRMX_2022</td>\n",
       "    </tr>\n",
       "  </tbody>\n",
       "</table>\n",
       "</div>"
      ],
      "text/plain": [
       "       CUSTOMER_ID_ORIGINAL_RO    GM1_22    GM1_23 YEAR_FLAG CUST_SEGMENT  \\\n",
       "65750               2001995182   77.3439   22.4129      2022         DRMX   \n",
       "60745               2002950509   72.3446 -102.3910      2022         DRMX   \n",
       "1441                   7739223  175.9146  112.5791      2023         DRMX   \n",
       "37936               2007888847   12.9847   32.7839      2023         DRMX   \n",
       "84959                 10094307  193.4740  197.3556      2022         DRMX   \n",
       "\n",
       "         SEGM_YR  \n",
       "65750  DRMX_2022  \n",
       "60745  DRMX_2022  \n",
       "1441   DRMX_2023  \n",
       "37936  DRMX_2023  \n",
       "84959  DRMX_2022  "
      ]
     },
     "execution_count": 94,
     "metadata": {},
     "output_type": "execute_result"
    }
   ],
   "source": [
    "df = CUSTOMERS_LAST12M.sample(n=100000).copy()\n",
    "df.head()\n"
   ]
  },
  {
   "cell_type": "code",
   "execution_count": 114,
   "metadata": {},
   "outputs": [
    {
     "data": {
      "text/plain": [
       "{'DRMX': 0, 'SSB': 1, 'MIX': 2}"
      ]
     },
     "execution_count": 114,
     "metadata": {},
     "output_type": "execute_result"
    }
   ],
   "source": [
    "node_label = [\"DRMX\", \"SSB\", \"MIX\"]\n",
    "\n",
    "#node_label = [\"2022\", \"2023\"]\n",
    "\n",
    "node_dict = {y:x for x, y in enumerate(node_label)}\n",
    "node_dict"
   ]
  },
  {
   "cell_type": "code",
   "execution_count": 115,
   "metadata": {},
   "outputs": [],
   "source": [
    "source = df.loc[df['YEAR_FLAG'] == '2022']['CUST_SEGMENT']\n",
    "\n",
    "target = df.loc[df['YEAR_FLAG'] == '2023']['CUST_SEGMENT']\n",
    "\n",
    "values = np.ones(source.size)\n",
    "\n",
    "#values = 1"
   ]
  },
  {
   "cell_type": "code",
   "execution_count": 116,
   "metadata": {},
   "outputs": [],
   "source": [
    "source_node = [node_dict[x] for x in source]\n",
    "target_node = [node_dict[x] for x in target]"
   ]
  },
  {
   "cell_type": "code",
   "execution_count": 117,
   "metadata": {},
   "outputs": [
    {
     "ename": "ValueError",
     "evalue": "Mime type rendering requires nbformat>=4.2.0 but it is not installed",
     "output_type": "error",
     "traceback": [
      "\u001b[1;31m---------------------------------------------------------------------------\u001b[0m",
      "\u001b[1;31mValueError\u001b[0m                                Traceback (most recent call last)",
      "\u001b[1;32mc:\\Projekty\\DrMAX\\Rumunsko\\drmax_vs_1\\sankey.ipynb Cell 8\u001b[0m line \u001b[0;36m2\n\u001b[0;32m     <a href='vscode-notebook-cell:/c%3A/Projekty/DrMAX/Rumunsko/drmax_vs_1/sankey.ipynb#W6sZmlsZQ%3D%3D?line=16'>17</a>\u001b[0m plot(fig,\n\u001b[0;32m     <a href='vscode-notebook-cell:/c%3A/Projekty/DrMAX/Rumunsko/drmax_vs_1/sankey.ipynb#W6sZmlsZQ%3D%3D?line=17'>18</a>\u001b[0m      image_filename\u001b[39m=\u001b[39m\u001b[39m'\u001b[39m\u001b[39msankey_plot_1\u001b[39m\u001b[39m'\u001b[39m, \n\u001b[0;32m     <a href='vscode-notebook-cell:/c%3A/Projekty/DrMAX/Rumunsko/drmax_vs_1/sankey.ipynb#W6sZmlsZQ%3D%3D?line=18'>19</a>\u001b[0m      image\u001b[39m=\u001b[39m\u001b[39m'\u001b[39m\u001b[39mpng\u001b[39m\u001b[39m'\u001b[39m, \n\u001b[0;32m     <a href='vscode-notebook-cell:/c%3A/Projekty/DrMAX/Rumunsko/drmax_vs_1/sankey.ipynb#W6sZmlsZQ%3D%3D?line=19'>20</a>\u001b[0m      image_width\u001b[39m=\u001b[39m\u001b[39m1000\u001b[39m, \n\u001b[0;32m     <a href='vscode-notebook-cell:/c%3A/Projekty/DrMAX/Rumunsko/drmax_vs_1/sankey.ipynb#W6sZmlsZQ%3D%3D?line=20'>21</a>\u001b[0m      image_height\u001b[39m=\u001b[39m\u001b[39m600\u001b[39m\n\u001b[0;32m     <a href='vscode-notebook-cell:/c%3A/Projekty/DrMAX/Rumunsko/drmax_vs_1/sankey.ipynb#W6sZmlsZQ%3D%3D?line=21'>22</a>\u001b[0m )\n\u001b[0;32m     <a href='vscode-notebook-cell:/c%3A/Projekty/DrMAX/Rumunsko/drmax_vs_1/sankey.ipynb#W6sZmlsZQ%3D%3D?line=22'>23</a>\u001b[0m \u001b[39m# And shows the plot\u001b[39;00m\n\u001b[1;32m---> <a href='vscode-notebook-cell:/c%3A/Projekty/DrMAX/Rumunsko/drmax_vs_1/sankey.ipynb#W6sZmlsZQ%3D%3D?line=23'>24</a>\u001b[0m fig\u001b[39m.\u001b[39;49mshow()\n",
      "File \u001b[1;32mc:\\Projekty\\DrMAX\\Rumunsko\\drmax_vs_1\\.venv\\lib\\site-packages\\plotly\\basedatatypes.py:3412\u001b[0m, in \u001b[0;36mBaseFigure.show\u001b[1;34m(self, *args, **kwargs)\u001b[0m\n\u001b[0;32m   3379\u001b[0m \u001b[39m\u001b[39m\u001b[39m\"\"\"\u001b[39;00m\n\u001b[0;32m   3380\u001b[0m \u001b[39mShow a figure using either the default renderer(s) or the renderer(s)\u001b[39;00m\n\u001b[0;32m   3381\u001b[0m \u001b[39mspecified by the renderer argument\u001b[39;00m\n\u001b[1;32m   (...)\u001b[0m\n\u001b[0;32m   3408\u001b[0m \u001b[39mNone\u001b[39;00m\n\u001b[0;32m   3409\u001b[0m \u001b[39m\"\"\"\u001b[39;00m\n\u001b[0;32m   3410\u001b[0m \u001b[39mimport\u001b[39;00m \u001b[39mplotly\u001b[39;00m\u001b[39m.\u001b[39;00m\u001b[39mio\u001b[39;00m \u001b[39mas\u001b[39;00m \u001b[39mpio\u001b[39;00m\n\u001b[1;32m-> 3412\u001b[0m \u001b[39mreturn\u001b[39;00m pio\u001b[39m.\u001b[39;49mshow(\u001b[39mself\u001b[39;49m, \u001b[39m*\u001b[39;49margs, \u001b[39m*\u001b[39;49m\u001b[39m*\u001b[39;49mkwargs)\n",
      "File \u001b[1;32mc:\\Projekty\\DrMAX\\Rumunsko\\drmax_vs_1\\.venv\\lib\\site-packages\\plotly\\io\\_renderers.py:396\u001b[0m, in \u001b[0;36mshow\u001b[1;34m(fig, renderer, validate, **kwargs)\u001b[0m\n\u001b[0;32m    391\u001b[0m         \u001b[39mraise\u001b[39;00m \u001b[39mValueError\u001b[39;00m(\n\u001b[0;32m    392\u001b[0m             \u001b[39m\"\u001b[39m\u001b[39mMime type rendering requires ipython but it is not installed\u001b[39m\u001b[39m\"\u001b[39m\n\u001b[0;32m    393\u001b[0m         )\n\u001b[0;32m    395\u001b[0m     \u001b[39mif\u001b[39;00m \u001b[39mnot\u001b[39;00m nbformat \u001b[39mor\u001b[39;00m Version(nbformat\u001b[39m.\u001b[39m__version__) \u001b[39m<\u001b[39m Version(\u001b[39m\"\u001b[39m\u001b[39m4.2.0\u001b[39m\u001b[39m\"\u001b[39m):\n\u001b[1;32m--> 396\u001b[0m         \u001b[39mraise\u001b[39;00m \u001b[39mValueError\u001b[39;00m(\n\u001b[0;32m    397\u001b[0m             \u001b[39m\"\u001b[39m\u001b[39mMime type rendering requires nbformat>=4.2.0 but it is not installed\u001b[39m\u001b[39m\"\u001b[39m\n\u001b[0;32m    398\u001b[0m         )\n\u001b[0;32m    400\u001b[0m     ipython_display\u001b[39m.\u001b[39mdisplay(bundle, raw\u001b[39m=\u001b[39m\u001b[39mTrue\u001b[39;00m)\n\u001b[0;32m    402\u001b[0m \u001b[39m# external renderers\u001b[39;00m\n",
      "\u001b[1;31mValueError\u001b[0m: Mime type rendering requires nbformat>=4.2.0 but it is not installed"
     ]
    }
   ],
   "source": [
    "import plotly.graph_objects as go # Import the graphical object\n",
    "\n",
    "fig = go.Figure( \n",
    "    data=[go.Sankey( # The plot we are interest\n",
    "        # This part is for the node information\n",
    "        node = dict( \n",
    "            label = node_label\n",
    "        ),\n",
    "        # This part is for the link information\n",
    "        link = dict(\n",
    "            source = source_node,\n",
    "            target = target_node,\n",
    "            value = values\n",
    "        ))])\n",
    "\n",
    "# With this save the plots \n",
    "plot(fig,\n",
    "     image_filename='sankey_plot_1', \n",
    "     image='png', \n",
    "     image_width=1000, \n",
    "     image_height=600\n",
    ")\n",
    "# And shows the plot\n",
    "fig.show()"
   ]
  },
  {
   "cell_type": "code",
   "execution_count": 109,
   "metadata": {},
   "outputs": [
    {
     "ename": "ValueError",
     "evalue": "Mime type rendering requires nbformat>=4.2.0 but it is not installed",
     "output_type": "error",
     "traceback": [
      "\u001b[1;31m---------------------------------------------------------------------------\u001b[0m",
      "\u001b[1;31mValueError\u001b[0m                                Traceback (most recent call last)",
      "\u001b[1;32mc:\\Projekty\\DrMAX\\Rumunsko\\drmax_vs_1\\sankey.ipynb Cell 9\u001b[0m line \u001b[0;36m1\n\u001b[0;32m      <a href='vscode-notebook-cell:/c%3A/Projekty/DrMAX/Rumunsko/drmax_vs_1/sankey.ipynb#X10sZmlsZQ%3D%3D?line=2'>3</a>\u001b[0m fig \u001b[39m=\u001b[39m go\u001b[39m.\u001b[39mFigure(data\u001b[39m=\u001b[39m[go\u001b[39m.\u001b[39mSankey(\n\u001b[0;32m      <a href='vscode-notebook-cell:/c%3A/Projekty/DrMAX/Rumunsko/drmax_vs_1/sankey.ipynb#X10sZmlsZQ%3D%3D?line=3'>4</a>\u001b[0m     node \u001b[39m=\u001b[39m \u001b[39mdict\u001b[39m(\n\u001b[0;32m      <a href='vscode-notebook-cell:/c%3A/Projekty/DrMAX/Rumunsko/drmax_vs_1/sankey.ipynb#X10sZmlsZQ%3D%3D?line=4'>5</a>\u001b[0m       pad \u001b[39m=\u001b[39m \u001b[39m15\u001b[39m,\n\u001b[1;32m   (...)\u001b[0m\n\u001b[0;32m     <a href='vscode-notebook-cell:/c%3A/Projekty/DrMAX/Rumunsko/drmax_vs_1/sankey.ipynb#X10sZmlsZQ%3D%3D?line=13'>14</a>\u001b[0m       value \u001b[39m=\u001b[39m [\u001b[39m8\u001b[39m, \u001b[39m4\u001b[39m, \u001b[39m2\u001b[39m, \u001b[39m8\u001b[39m, \u001b[39m4\u001b[39m, \u001b[39m2\u001b[39m]\n\u001b[0;32m     <a href='vscode-notebook-cell:/c%3A/Projekty/DrMAX/Rumunsko/drmax_vs_1/sankey.ipynb#X10sZmlsZQ%3D%3D?line=14'>15</a>\u001b[0m   ))])\n\u001b[0;32m     <a href='vscode-notebook-cell:/c%3A/Projekty/DrMAX/Rumunsko/drmax_vs_1/sankey.ipynb#X10sZmlsZQ%3D%3D?line=16'>17</a>\u001b[0m fig\u001b[39m.\u001b[39mupdate_layout(title_text\u001b[39m=\u001b[39m\u001b[39m\"\u001b[39m\u001b[39mBasic Sankey Diagram\u001b[39m\u001b[39m\"\u001b[39m, font_size\u001b[39m=\u001b[39m\u001b[39m10\u001b[39m)\n\u001b[1;32m---> <a href='vscode-notebook-cell:/c%3A/Projekty/DrMAX/Rumunsko/drmax_vs_1/sankey.ipynb#X10sZmlsZQ%3D%3D?line=17'>18</a>\u001b[0m fig\u001b[39m.\u001b[39;49mshow()\n",
      "File \u001b[1;32mc:\\Projekty\\DrMAX\\Rumunsko\\drmax_vs_1\\.venv\\lib\\site-packages\\plotly\\basedatatypes.py:3412\u001b[0m, in \u001b[0;36mBaseFigure.show\u001b[1;34m(self, *args, **kwargs)\u001b[0m\n\u001b[0;32m   3379\u001b[0m \u001b[39m\u001b[39m\u001b[39m\"\"\"\u001b[39;00m\n\u001b[0;32m   3380\u001b[0m \u001b[39mShow a figure using either the default renderer(s) or the renderer(s)\u001b[39;00m\n\u001b[0;32m   3381\u001b[0m \u001b[39mspecified by the renderer argument\u001b[39;00m\n\u001b[1;32m   (...)\u001b[0m\n\u001b[0;32m   3408\u001b[0m \u001b[39mNone\u001b[39;00m\n\u001b[0;32m   3409\u001b[0m \u001b[39m\"\"\"\u001b[39;00m\n\u001b[0;32m   3410\u001b[0m \u001b[39mimport\u001b[39;00m \u001b[39mplotly\u001b[39;00m\u001b[39m.\u001b[39;00m\u001b[39mio\u001b[39;00m \u001b[39mas\u001b[39;00m \u001b[39mpio\u001b[39;00m\n\u001b[1;32m-> 3412\u001b[0m \u001b[39mreturn\u001b[39;00m pio\u001b[39m.\u001b[39;49mshow(\u001b[39mself\u001b[39;49m, \u001b[39m*\u001b[39;49margs, \u001b[39m*\u001b[39;49m\u001b[39m*\u001b[39;49mkwargs)\n",
      "File \u001b[1;32mc:\\Projekty\\DrMAX\\Rumunsko\\drmax_vs_1\\.venv\\lib\\site-packages\\plotly\\io\\_renderers.py:396\u001b[0m, in \u001b[0;36mshow\u001b[1;34m(fig, renderer, validate, **kwargs)\u001b[0m\n\u001b[0;32m    391\u001b[0m         \u001b[39mraise\u001b[39;00m \u001b[39mValueError\u001b[39;00m(\n\u001b[0;32m    392\u001b[0m             \u001b[39m\"\u001b[39m\u001b[39mMime type rendering requires ipython but it is not installed\u001b[39m\u001b[39m\"\u001b[39m\n\u001b[0;32m    393\u001b[0m         )\n\u001b[0;32m    395\u001b[0m     \u001b[39mif\u001b[39;00m \u001b[39mnot\u001b[39;00m nbformat \u001b[39mor\u001b[39;00m Version(nbformat\u001b[39m.\u001b[39m__version__) \u001b[39m<\u001b[39m Version(\u001b[39m\"\u001b[39m\u001b[39m4.2.0\u001b[39m\u001b[39m\"\u001b[39m):\n\u001b[1;32m--> 396\u001b[0m         \u001b[39mraise\u001b[39;00m \u001b[39mValueError\u001b[39;00m(\n\u001b[0;32m    397\u001b[0m             \u001b[39m\"\u001b[39m\u001b[39mMime type rendering requires nbformat>=4.2.0 but it is not installed\u001b[39m\u001b[39m\"\u001b[39m\n\u001b[0;32m    398\u001b[0m         )\n\u001b[0;32m    400\u001b[0m     ipython_display\u001b[39m.\u001b[39mdisplay(bundle, raw\u001b[39m=\u001b[39m\u001b[39mTrue\u001b[39;00m)\n\u001b[0;32m    402\u001b[0m \u001b[39m# external renderers\u001b[39;00m\n",
      "\u001b[1;31mValueError\u001b[0m: Mime type rendering requires nbformat>=4.2.0 but it is not installed"
     ]
    }
   ],
   "source": [
    "import plotly.graph_objects as go\n",
    "\n",
    "fig = go.Figure(data=[go.Sankey(\n",
    "    node = dict(\n",
    "      pad = 15,\n",
    "      thickness = 20,\n",
    "      line = dict(color = \"black\", width = 0.5),\n",
    "      label = [\"202\", \"2023\"],\n",
    "      color = \"blue\"\n",
    "    ),\n",
    "    link = dict(\n",
    "      source = [0, 1, 0, 2, 3, 3], # indices correspond to labels, eg A1, A2, A1, B1, ...\n",
    "      target = [2, 3, 3, 4, 4, 5],\n",
    "      value = [8, 4, 2, 8, 4, 2]\n",
    "  ))])\n",
    "\n",
    "fig.update_layout(title_text=\"Basic Sankey Diagram\", font_size=10)\n",
    "fig.show()"
   ]
  }
 ],
 "metadata": {
  "kernelspec": {
   "display_name": ".venv",
   "language": "python",
   "name": "python3"
  },
  "language_info": {
   "codemirror_mode": {
    "name": "ipython",
    "version": 3
   },
   "file_extension": ".py",
   "mimetype": "text/x-python",
   "name": "python",
   "nbconvert_exporter": "python",
   "pygments_lexer": "ipython3",
   "version": "3.8.7rc1"
  }
 },
 "nbformat": 4,
 "nbformat_minor": 2
}
